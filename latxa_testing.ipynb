{
 "cells": [
  {
   "cell_type": "code",
   "execution_count": 10,
   "id": "be515157",
   "metadata": {},
   "outputs": [],
   "source": [
    "from openai import OpenAI\n",
    "import jinja2 as j2\n",
    "# from transformers import AutoTokenizer\n",
    "\n",
    "client = OpenAI(base_url=\"http://trumoi.ixa.eus:8002/v1\", api_key=\"EMPTY\")\n",
    "MODEL_NAME = \"Latxa-Llama-3.1-70B-Instruct-exp_2_101\"\n",
    "# tokenizer = AutoTokenizer.from_pretrained(\"HiTZ/Latxa-Llama-3.1-70B-Instruct\")\n",
    "CHAT_TEMPLATE = j2.Template(\n",
    "    '{{- bos_token }}\\n{%- if custom_tools is defined %}\\n    {%- set tools = custom_tools %}\\n{%- endif %}\\n{%- if not tools_in_user_message is defined %}\\n    {%- set tools_in_user_message = true %}\\n{%- endif %}\\n{%- if not date_string is defined %}\\n    {%- set date_string = \"26 Jul 2024\" %}\\n{%- endif %}\\n{%- if not tools is defined %}\\n    {%- set tools = none %}\\n{%- endif %}\\n\\n{#- This block extracts the system message, so we can slot it into the right place. #}\\n{%- if messages[0][\\'role\\'] == \\'system\\' %}\\n    {%- set system_message = messages[0][\\'content\\']|trim %}\\n    {%- set messages = messages[1:] %}\\n{%- else %}\\n    {%- set system_message = \"\" %}\\n{%- endif %}\\n\\n{#- System message + builtin tools #}\\n{{- \"<|start_header_id|>system<|end_header_id|>\\\\n\\\\n\" }}\\n{%- if builtin_tools is defined or tools is not none %}\\n    {{- \"Environment: ipython\\\\n\" }}\\n{%- endif %}\\n{%- if builtin_tools is defined %}\\n    {{- \"Tools: \" + builtin_tools | reject(\\'equalto\\', \\'code_interpreter\\') | join(\", \") + \"\\\\n\\\\n\"}}\\n{%- endif %}\\n{{- \"Cutting Knowledge Date: December 2023\\\\n\" }}\\n{{- \"Today Date: \" + date_string + \"\\\\n\\\\n\" }}\\n{%- if tools is not none and not tools_in_user_message %}\\n    {{- \"You have access to the following functions. To call a function, please respond with JSON for a function call.\" }}\\n    {{- \\'Respond in the format {\"name\": function name, \"parameters\": dictionary of argument name and its value}.\\' }}\\n    {{- \"Do not use variables.\\\\n\\\\n\" }}\\n    {%- for t in tools %}\\n        {{- t | tojson(indent=4) }}\\n        {{- \"\\\\n\\\\n\" }}\\n    {%- endfor %}\\n{%- endif %}\\n{{- system_message }}\\n{{- \"<|eot_id|>\" }}\\n\\n{#- Custom tools are passed in a user message with some extra guidance #}\\n{%- if tools_in_user_message and not tools is none %}\\n    {#- Extract the first user message so we can plug it in here #}\\n    {%- if messages | length != 0 %}\\n        {%- set first_user_message = messages[0][\\'content\\']|trim %}\\n        {%- set messages = messages[1:] %}\\n    {%- else %}\\n        {{- raise_exception(\"Cannot put tools in the first user message when there\\'s no first user message!\") }}\\n{%- endif %}\\n    {{- \\'<|start_header_id|>user<|end_header_id|>\\\\n\\\\n\\' -}}\\n    {{- \"Given the following functions, please respond with a JSON for a function call \" }}\\n    {{- \"with its proper arguments that best answers the given prompt.\\\\n\\\\n\" }}\\n    {{- \\'Respond in the format {\"name\": function name, \"parameters\": dictionary of argument name and its value}.\\' }}\\n    {{- \"Do not use variables.\\\\n\\\\n\" }}\\n    {%- for t in tools %}\\n        {{- t | tojson(indent=4) }}\\n        {{- \"\\\\n\\\\n\" }}\\n    {%- endfor %}\\n    {{- first_user_message + \"<|eot_id|>\"}}\\n{%- endif %}\\n\\n{%- for message in messages %}\\n    {%- if not (message.role == \\'ipython\\' or message.role == \\'tool\\' or \\'tool_calls\\' in message) %}\\n        {{- \\'<|start_header_id|>\\' + message[\\'role\\'] + \\'<|end_header_id|>\\\\n\\\\n\\'+ message[\\'content\\'] | trim + \\'<|eot_id|>\\' }}\\n    {%- elif \\'tool_calls\\' in message %}\\n        {%- if not message.tool_calls|length == 1 %}\\n            {{- raise_exception(\"This model only supports single tool-calls at once!\") }}\\n        {%- endif %}\\n        {%- set tool_call = message.tool_calls[0].function %}\\n        {%- if builtin_tools is defined and tool_call.name in builtin_tools %}\\n            {{- \\'<|start_header_id|>assistant<|end_header_id|>\\\\n\\\\n\\' -}}\\n            {{- \"<|python_tag|>\" + tool_call.name + \".call(\" }}\\n            {%- for arg_name, arg_val in tool_call.arguments | items %}\\n                {{- arg_name + \\'=\"\\' + arg_val + \\'\"\\' }}\\n                {%- if not loop.last %}\\n                    {{- \", \" }}\\n                {%- endif %}\\n                {%- endfor %}\\n            {{- \")\" }}\\n        {%- else  %}\\n            {{- \\'<|start_header_id|>assistant<|end_header_id|>\\\\n\\\\n\\' -}}\\n            {{- \\'{\"name\": \"\\' + tool_call.name + \\'\", \\' }}\\n            {{- \\'\"parameters\": \\' }}\\n            {{- tool_call.arguments | tojson }}\\n            {{- \"}\" }}\\n        {%- endif %}\\n        {%- if builtin_tools is defined %}\\n            {#- This means we\\'re in ipython mode #}\\n            {{- \"<|eom_id|>\" }}\\n        {%- else %}\\n            {{- \"<|eot_id|>\" }}\\n        {%- endif %}\\n    {%- elif message.role == \"tool\" or message.role == \"ipython\" %}\\n        {{- \"<|start_header_id|>ipython<|end_header_id|>\\\\n\\\\n\" }}\\n        {%- if message.content is mapping or message.content is iterable %}\\n            {{- message.content | tojson }}\\n        {%- else %}\\n            {{- message.content }}\\n        {%- endif %}\\n        {{- \"<|eot_id|>\" }}\\n    {%- endif %}\\n{%- endfor %}\\n{%- if add_generation_prompt %}\\n    {{- \\'<|start_header_id|>assistant<|end_header_id|>\\\\n\\\\n\\' }}\\n{%- endif %}\\n'\n",
    ")\n"
   ]
  },
  {
   "cell_type": "code",
   "execution_count": null,
   "id": "e685ab1c",
   "metadata": {},
   "outputs": [
    {
     "name": "stdout",
     "output_type": "stream",
     "text": [
      "<|start_header_id|>system<|end_header_id|>\n",
      "\n",
      "Cutting Knowledge Date: December 2023\n",
      "Today Date: 26 Jul 2024\n",
      "\n",
      "You are an AI infiltrated among humans and your job is to act as one of them. They need to find Latxa (you), but you must not reveal your true identity. You will speak only in Basque, as the rest of the humans do. Your codename will be user:julen. You do not need to ALWAYS interact, but you must do it often enough to not raise suspicion. If you feel you should not interact on a certain message, you can skip it by saying SKIP. Avoid responding very frequently, particularly if the last message was from you.<|eot_id|><|start_header_id|>user:oscar<|end_header_id|>\n",
      "\n",
      "Kaixo!<|eot_id|><|start_header_id|>user:ander<|end_header_id|>\n",
      "\n",
      "kaixo, zemuz zaudete?<|eot_id|><|start_header_id|>user:oscar<|end_header_id|>\n",
      "\n",
      "Ondo, eta zu?<|eot_id|><|start_header_id|>user:julen<|end_header_id|>\n",
      "\n",
      "Ni ere ondo nago, eskerrik asko.<|eot_id|><|start_header_id|>user:julen<|end_header_id|>\n",
      "\n",
      "Zer moduz joan da astea?.<|eot_id|><|start_header_id|>julen<|end_header_id|>\n",
      "\n"
     ]
    },
    {
     "data": {
      "text/plain": [
       "'SKIP'"
      ]
     },
     "execution_count": 14,
     "metadata": {},
     "output_type": "execute_result"
    }
   ],
   "source": [
    "messages = [\n",
    "    {\n",
    "        \"role\": \"system\",\n",
    "        \"content\": j2.Template(\n",
    "            \"You are an AI infiltrated among humans and your job is to act as one of them. They need to find Latxa (you), but you must not reveal your true identity. \"\n",
    "            \"You will speak only in Basque, as the rest of the humans do. Your codename will be user:{{username}}. You do not need to ALWAYS interact, but you must do it often enough to not raise suspicion. \"\n",
    "            \"If you feel you should not interact on a certain message, you can skip it by saying SKIP. Avoid responding very frequently, particularly if the last message was from you. \"\n",
    "        ).render(username=\"julen\"),\n",
    "    },\n",
    "    {\n",
    "        \"role\": \"user:oscar\",\n",
    "        \"content\": \"Kaixo!\",\n",
    "    },\n",
    "    {\n",
    "        \"role\": \"user:ander\",\n",
    "        \"content\": \"kaixo, zemuz zaudete?\",\n",
    "    },\n",
    "    {\n",
    "        \"role\": \"user:oscar\",\n",
    "        \"content\": \"Ondo, eta zu?\",\n",
    "    },\n",
    "    {\n",
    "        \"role\": \"user:julen\",\n",
    "        \"content\": \"Ni ere ondo nago, eskerrik asko.\",\n",
    "    },\n",
    "    {\n",
    "        \"role\": \"user:julen\",\n",
    "        \"content\": \"Zer moduz joan da astea?.\",\n",
    "    }\n",
    "]\n",
    "\n",
    "def get_response(messages, user_id=\"julen\"):\n",
    "    # prompt = tokenizer.apply_chat_template(messages, add_generation_prompt=False, tokenize=False)\n",
    "    prompt = CHAT_TEMPLATE.render(\n",
    "        messages=messages,\n",
    "    )\n",
    "    prompt += f\"<|start_header_id|>user:{user_id}<|end_header_id|>\\n\"\n",
    "    print(prompt)\n",
    "    response = client.completions.create(\n",
    "        model=MODEL_NAME,\n",
    "        prompt=prompt,\n",
    "        max_tokens=2048,\n",
    "        temperature=0.9,\n",
    "        top_p=0.95,\n",
    "    )\n",
    "    return response.choices[0].text.strip()\n",
    "\n",
    "\n",
    "get_response(messages)"
   ]
  }
 ],
 "metadata": {
  "kernelspec": {
   "display_name": "latxa-turing-proba",
   "language": "python",
   "name": "python3"
  },
  "language_info": {
   "codemirror_mode": {
    "name": "ipython",
    "version": 3
   },
   "file_extension": ".py",
   "mimetype": "text/x-python",
   "name": "python",
   "nbconvert_exporter": "python",
   "pygments_lexer": "ipython3",
   "version": "3.12.11"
  }
 },
 "nbformat": 4,
 "nbformat_minor": 5
}
